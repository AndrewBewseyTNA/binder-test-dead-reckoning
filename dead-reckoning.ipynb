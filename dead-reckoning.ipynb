{
 "cells": [
  {
   "cell_type": "markdown",
   "metadata": {},
   "source": [
    "We will start by importing two useful packages: geopy and folium. Geopy provides tools for geocoding, and converting waypoints and bearings into other forms of useful information. Folium is a mapping package that allows us to plot our data on a map using leaflet.js. We will also import datetime to allow summation of time deltas."
   ]
  },
  {
   "cell_type": "code",
   "execution_count": 1,
   "metadata": {},
   "outputs": [
    {
     "name": "stdout",
     "output_type": "stream",
     "text": [
      "Defaulting to user installation because normal site-packages is not writeable\n",
      "Requirement already satisfied: geopy in /home/abewsey/.local/lib/python3.10/site-packages (2.4.0)\n",
      "Requirement already satisfied: geographiclib<3,>=1.52 in /home/abewsey/.local/lib/python3.10/site-packages (from geopy) (2.0)\n",
      "Note: you may need to restart the kernel to use updated packages.\n",
      "Defaulting to user installation because normal site-packages is not writeable\n",
      "Requirement already satisfied: folium in /home/abewsey/.local/lib/python3.10/site-packages (0.14.0)\n",
      "Requirement already satisfied: branca>=0.6.0 in /home/abewsey/.local/lib/python3.10/site-packages (from folium) (0.6.0)\n",
      "Requirement already satisfied: jinja2>=2.9 in /home/abewsey/.local/lib/python3.10/site-packages (from folium) (3.1.2)\n",
      "Requirement already satisfied: numpy in /home/abewsey/.local/lib/python3.10/site-packages (from folium) (1.26.0)\n",
      "Requirement already satisfied: requests in /home/abewsey/.local/lib/python3.10/site-packages (from folium) (2.31.0)\n",
      "Requirement already satisfied: MarkupSafe>=2.0 in /home/abewsey/.local/lib/python3.10/site-packages (from jinja2>=2.9->folium) (2.1.3)\n",
      "Requirement already satisfied: charset-normalizer<4,>=2 in /usr/lib/python3/dist-packages (from requests->folium) (2.0.6)\n",
      "Requirement already satisfied: idna<4,>=2.5 in /usr/lib/python3/dist-packages (from requests->folium) (3.3)\n",
      "Requirement already satisfied: urllib3<3,>=1.21.1 in /usr/lib/python3/dist-packages (from requests->folium) (1.26.5)\n",
      "Requirement already satisfied: certifi>=2017.4.17 in /usr/lib/python3/dist-packages (from requests->folium) (2020.6.20)\n",
      "Note: you may need to restart the kernel to use updated packages.\n"
     ]
    }
   ],
   "source": [
    "%pip install geopy\n",
    "%pip install folium\n",
    "import folium\n",
    "import geopy\n",
    "from geopy.distance import geodesic\n",
    "from datetime import datetime, timedelta\n",
    "import folium.plugins as plugins"
   ]
  },
  {
   "cell_type": "markdown",
   "metadata": {},
   "source": [
    "Next, we set up an empty dictionary for waypoints. This is a list of dictionaries, each contianing a lat, long, and time. \n",
    "This cell is seperated out from the next set of code so it can be re-run, resetting the list to void. "
   ]
  },
  {
   "cell_type": "code",
   "execution_count": 16,
   "metadata": {},
   "outputs": [],
   "source": [
    "waypoints = []"
   ]
  },
  {
   "cell_type": "markdown",
   "metadata": {},
   "source": [
    "To start filling the waypoint list, we ask the user for a starting waypoint. For the benifit of the package, and preventing bugs, we are assuming the starting time to be 1st Jan 1990 at midnight. "
   ]
  },
  {
   "cell_type": "code",
   "execution_count": 17,
   "metadata": {},
   "outputs": [],
   "source": [
    "latitude = float(input(\"Enter latitude: \"))\n",
    "longitude = float(input(\"Enter longitude: \"))\n",
    "\n",
    "waypoints.append(\n",
    "    {\n",
    "        \"latitude\": latitude,\n",
    "        \"longitude\": longitude,\n",
    "        \"dateTime\": datetime.strptime(\"1800-1-1 00:00:00\", \"%Y-%m-%d %H:%M:%S\")\n",
    "    }\n",
    ")"
   ]
  },
  {
   "cell_type": "markdown",
   "metadata": {},
   "source": [
    "The next cell is re-runnable as often as required. It asks the user to provide a heading, speed, and time. It then uses geopy's geodesic function to calculate the distance travelled, and the new waypoint. This is then added to the list of waypoints."
   ]
  },
  {
   "cell_type": "code",
   "execution_count": 20,
   "metadata": {},
   "outputs": [],
   "source": [
    "bearing = float(input(\"Enter bearing: \"))\n",
    "speed = float(input(\"Enter speed: \"))\n",
    "time = float(input(\"Enter time in hours: \"))\n",
    "\n",
    "# get the previous waypoint\n",
    "previous_latitude = waypoints[-1][\"latitude\"]\n",
    "previous_longitude = waypoints[-1][\"longitude\"]\n",
    "previous_time = waypoints[-1][\"dateTime\"]\n",
    "\n",
    "# calculate the new waypoint\n",
    "new_waypoint = geodesic(kilometers=speed * time).destination([\n",
    "    previous_latitude,\n",
    "    previous_longitude\n",
    "], bearing)\n",
    "\n",
    "waypoints.append(\n",
    "    {\n",
    "        \"latitude\": new_waypoint.latitude,\n",
    "        \"longitude\": new_waypoint.longitude,\n",
    "        \"dateTime\": previous_time + timedelta(hours=time)\n",
    "    }\n",
    ")"
   ]
  },
  {
   "cell_type": "markdown",
   "metadata": {},
   "source": [
    "Offer the user a chance to print all the waypoints as a quick sanity check. "
   ]
  },
  {
   "cell_type": "code",
   "execution_count": 21,
   "metadata": {},
   "outputs": [
    {
     "name": "stdout",
     "output_type": "stream",
     "text": [
      "{'latitude': 0.0, 'longitude': 0.0, 'dateTime': datetime.datetime(1800, 1, 1, 0, 0)}\n",
      "{'latitude': -0.7596699137352162, 'longitude': 0.0, 'dateTime': datetime.datetime(1800, 1, 1, 12, 0)}\n",
      "{'latitude': -0.7595937713390581, 'longitude': 0.8085543391243254, 'dateTime': datetime.datetime(1800, 1, 1, 13, 0)}\n",
      "{'latitude': 0.04225526169954722, 'longitude': 1.827871795048741, 'dateTime': datetime.datetime(1800, 1, 2, 1, 0)}\n"
     ]
    }
   ],
   "source": [
    "for waypoint in waypoints:\n",
    "    print(waypoint)"
   ]
  },
  {
   "cell_type": "markdown",
   "metadata": {},
   "source": [
    "Next, we convert each pair of waypoints into a series of journey legs. This means we take waypont a and waypoint a+1, and combine them as required by the package. "
   ]
  },
  {
   "cell_type": "code",
   "execution_count": 23,
   "metadata": {},
   "outputs": [],
   "source": [
    "lines = []\n",
    "\n",
    "for i in range(len(waypoints) - 1):\n",
    "    lines.append(\n",
    "        {\n",
    "            \"coordinates\": [\n",
    "                [waypoints[i][\"latitude\"], waypoints[i][\"longitude\"]],\n",
    "                [waypoints[i + 1][\"latitude\"], waypoints[i + 1][\"longitude\"]]\n",
    "            ],\n",
    "            \"dates\": [\n",
    "                str(waypoints[i][\"dateTime\"]),\n",
    "                str(waypoints[i + 1][\"dateTime\"])\n",
    "            ]\n",
    "        }\n",
    "    )\n",
    "    "
   ]
  },
  {
   "cell_type": "markdown",
   "metadata": {},
   "source": [
    "We print the lines dictionary as a sanity check. "
   ]
  },
  {
   "cell_type": "code",
   "execution_count": 24,
   "metadata": {},
   "outputs": [
    {
     "name": "stdout",
     "output_type": "stream",
     "text": [
      "{'coordinates': [[0.0, 0.0], [-0.7596699137352162, 0.0]], 'dates': ['1800-01-01 00:00:00', '1800-01-01 12:00:00']}\n",
      "{'coordinates': [[-0.7596699137352162, 0.0], [-0.7595937713390581, 0.8085543391243254]], 'dates': ['1800-01-01 12:00:00', '1800-01-01 13:00:00']}\n",
      "{'coordinates': [[-0.7595937713390581, 0.8085543391243254], [0.04225526169954722, 1.827871795048741]], 'dates': ['1800-01-01 13:00:00', '1800-01-02 01:00:00']}\n"
     ]
    }
   ],
   "source": [
    "for line in lines:\n",
    "    print(line)"
   ]
  },
  {
   "cell_type": "markdown",
   "metadata": {},
   "source": [
    "Now we draw a world map again, but this time we're using the lines dictionary"
   ]
  },
  {
   "cell_type": "code",
   "execution_count": 25,
   "metadata": {},
   "outputs": [
    {
     "data": {
      "text/html": [
       "<div style=\"width:100%;\"><div style=\"position:relative;width:100%;height:0;padding-bottom:60%;\"><span style=\"color:#565656\">Make this Notebook Trusted to load map: File -> Trust Notebook</span><iframe srcdoc=\"&lt;!DOCTYPE html&gt;\n",
       "&lt;html&gt;\n",
       "&lt;head&gt;\n",
       "    \n",
       "    &lt;meta http-equiv=&quot;content-type&quot; content=&quot;text/html; charset=UTF-8&quot; /&gt;\n",
       "    \n",
       "        &lt;script&gt;\n",
       "            L_NO_TOUCH = false;\n",
       "            L_DISABLE_3D = false;\n",
       "        &lt;/script&gt;\n",
       "    \n",
       "    &lt;style&gt;html, body {width: 100%;height: 100%;margin: 0;padding: 0;}&lt;/style&gt;\n",
       "    &lt;style&gt;#map {position:absolute;top:0;bottom:0;right:0;left:0;}&lt;/style&gt;\n",
       "    &lt;script src=&quot;https://cdn.jsdelivr.net/npm/leaflet@1.9.3/dist/leaflet.js&quot;&gt;&lt;/script&gt;\n",
       "    &lt;script src=&quot;https://code.jquery.com/jquery-1.12.4.min.js&quot;&gt;&lt;/script&gt;\n",
       "    &lt;script src=&quot;https://cdn.jsdelivr.net/npm/bootstrap@5.2.2/dist/js/bootstrap.bundle.min.js&quot;&gt;&lt;/script&gt;\n",
       "    &lt;script src=&quot;https://cdnjs.cloudflare.com/ajax/libs/Leaflet.awesome-markers/2.0.2/leaflet.awesome-markers.js&quot;&gt;&lt;/script&gt;\n",
       "    &lt;link rel=&quot;stylesheet&quot; href=&quot;https://cdn.jsdelivr.net/npm/leaflet@1.9.3/dist/leaflet.css&quot;/&gt;\n",
       "    &lt;link rel=&quot;stylesheet&quot; href=&quot;https://cdn.jsdelivr.net/npm/bootstrap@5.2.2/dist/css/bootstrap.min.css&quot;/&gt;\n",
       "    &lt;link rel=&quot;stylesheet&quot; href=&quot;https://netdna.bootstrapcdn.com/bootstrap/3.0.0/css/bootstrap.min.css&quot;/&gt;\n",
       "    &lt;link rel=&quot;stylesheet&quot; href=&quot;https://cdn.jsdelivr.net/npm/@fortawesome/fontawesome-free@6.2.0/css/all.min.css&quot;/&gt;\n",
       "    &lt;link rel=&quot;stylesheet&quot; href=&quot;https://cdnjs.cloudflare.com/ajax/libs/Leaflet.awesome-markers/2.0.2/leaflet.awesome-markers.css&quot;/&gt;\n",
       "    &lt;link rel=&quot;stylesheet&quot; href=&quot;https://cdn.jsdelivr.net/gh/python-visualization/folium/folium/templates/leaflet.awesome.rotate.min.css&quot;/&gt;\n",
       "    \n",
       "            &lt;meta name=&quot;viewport&quot; content=&quot;width=device-width,\n",
       "                initial-scale=1.0, maximum-scale=1.0, user-scalable=no&quot; /&gt;\n",
       "            &lt;style&gt;\n",
       "                #map_c097d4d2c5e6ed0d64417ff1f1071b56 {\n",
       "                    position: relative;\n",
       "                    width: 100.0%;\n",
       "                    height: 100.0%;\n",
       "                    left: 0.0%;\n",
       "                    top: 0.0%;\n",
       "                }\n",
       "                .leaflet-container { font-size: 1rem; }\n",
       "            &lt;/style&gt;\n",
       "        \n",
       "    &lt;script src=&quot;https://cdnjs.cloudflare.com/ajax/libs/jquery/2.0.0/jquery.min.js&quot;&gt;&lt;/script&gt;\n",
       "    &lt;script src=&quot;https://cdnjs.cloudflare.com/ajax/libs/jqueryui/1.10.2/jquery-ui.min.js&quot;&gt;&lt;/script&gt;\n",
       "    &lt;script src=&quot;https://cdn.jsdelivr.net/npm/iso8601-js-period@0.2.1/iso8601.min.js&quot;&gt;&lt;/script&gt;\n",
       "    &lt;script src=&quot;https://cdn.jsdelivr.net/npm/leaflet-timedimension@1.1.1/dist/leaflet.timedimension.min.js&quot;&gt;&lt;/script&gt;\n",
       "    &lt;script src=&quot;https://cdnjs.cloudflare.com/ajax/libs/moment.js/2.18.1/moment.min.js&quot;&gt;&lt;/script&gt;\n",
       "    &lt;link rel=&quot;stylesheet&quot; href=&quot;https://cdnjs.cloudflare.com/ajax/libs/highlight.js/8.4/styles/default.min.css&quot;/&gt;\n",
       "    &lt;link rel=&quot;stylesheet&quot; href=&quot;https://cdn.jsdelivr.net/npm/leaflet-timedimension@1.1.1/dist/leaflet.timedimension.control.css&quot;/&gt;\n",
       "&lt;/head&gt;\n",
       "&lt;body&gt;\n",
       "    \n",
       "    \n",
       "            &lt;div class=&quot;folium-map&quot; id=&quot;map_c097d4d2c5e6ed0d64417ff1f1071b56&quot; &gt;&lt;/div&gt;\n",
       "        \n",
       "&lt;/body&gt;\n",
       "&lt;script&gt;\n",
       "    \n",
       "    \n",
       "            var map_c097d4d2c5e6ed0d64417ff1f1071b56 = L.map(\n",
       "                &quot;map_c097d4d2c5e6ed0d64417ff1f1071b56&quot;,\n",
       "                {\n",
       "                    center: [0.0, 0.0],\n",
       "                    crs: L.CRS.EPSG3857,\n",
       "                    zoom: 2,\n",
       "                    zoomControl: true,\n",
       "                    preferCanvas: false,\n",
       "                }\n",
       "            );\n",
       "\n",
       "            \n",
       "\n",
       "        \n",
       "    \n",
       "            var tile_layer_a0aa305695bdc122b3d3d2d7f4775ca6 = L.tileLayer(\n",
       "                &quot;https://{s}.tile.openstreetmap.org/{z}/{x}/{y}.png&quot;,\n",
       "                {&quot;attribution&quot;: &quot;Data by \\u0026copy; \\u003ca target=\\&quot;_blank\\&quot; href=\\&quot;http://openstreetmap.org\\&quot;\\u003eOpenStreetMap\\u003c/a\\u003e, under \\u003ca target=\\&quot;_blank\\&quot; href=\\&quot;http://www.openstreetmap.org/copyright\\&quot;\\u003eODbL\\u003c/a\\u003e.&quot;, &quot;detectRetina&quot;: false, &quot;maxNativeZoom&quot;: 18, &quot;maxZoom&quot;: 18, &quot;minZoom&quot;: 0, &quot;noWrap&quot;: false, &quot;opacity&quot;: 1, &quot;subdomains&quot;: &quot;abc&quot;, &quot;tms&quot;: false}\n",
       "            ).addTo(map_c097d4d2c5e6ed0d64417ff1f1071b56);\n",
       "        \n",
       "    \n",
       "            L.Control.TimeDimensionCustom = L.Control.TimeDimension.extend({\n",
       "                _getDisplayDateFormat: function(date){\n",
       "                    var newdate = new moment(date);\n",
       "                    console.log(newdate)\n",
       "                    return newdate.format(&quot;YYYY-MM-DD HH:mm:ss&quot;);\n",
       "                }\n",
       "            });\n",
       "            map_c097d4d2c5e6ed0d64417ff1f1071b56.timeDimension = L.timeDimension(\n",
       "                {\n",
       "                    period: &quot;PT1h&quot;,\n",
       "                }\n",
       "            );\n",
       "            var timeDimensionControl = new L.Control.TimeDimensionCustom(\n",
       "                {&quot;autoPlay&quot;: true, &quot;loopButton&quot;: false, &quot;maxSpeed&quot;: 10, &quot;minSpeed&quot;: 0.1, &quot;playerOptions&quot;: {&quot;loop&quot;: true, &quot;startOver&quot;: true, &quot;transitionTime&quot;: 200}, &quot;position&quot;: &quot;bottomleft&quot;, &quot;speedSlider&quot;: true, &quot;timeSliderDragUpdate&quot;: false}\n",
       "            );\n",
       "            map_c097d4d2c5e6ed0d64417ff1f1071b56.addControl(this.timeDimensionControl);\n",
       "\n",
       "            var geoJsonLayer = L.geoJson({&quot;type&quot;: &quot;FeatureCollection&quot;, &quot;features&quot;: [{&quot;type&quot;: &quot;Feature&quot;, &quot;geometry&quot;: {&quot;type&quot;: &quot;LineString&quot;, &quot;coordinates&quot;: [[0.0, 0.0], [-0.7596699137352162, 0.0]]}, &quot;properties&quot;: {&quot;times&quot;: [&quot;1800-01-01 00:00:00&quot;, &quot;1800-01-01 12:00:00&quot;], &quot;style&quot;: {&quot;color&quot;: &quot;red&quot;}}}, {&quot;type&quot;: &quot;Feature&quot;, &quot;geometry&quot;: {&quot;type&quot;: &quot;LineString&quot;, &quot;coordinates&quot;: [[-0.7596699137352162, 0.0], [-0.7595937713390581, 0.8085543391243254]]}, &quot;properties&quot;: {&quot;times&quot;: [&quot;1800-01-01 12:00:00&quot;, &quot;1800-01-01 13:00:00&quot;], &quot;style&quot;: {&quot;color&quot;: &quot;red&quot;}}}, {&quot;type&quot;: &quot;Feature&quot;, &quot;geometry&quot;: {&quot;type&quot;: &quot;LineString&quot;, &quot;coordinates&quot;: [[-0.7595937713390581, 0.8085543391243254], [0.04225526169954722, 1.827871795048741]]}, &quot;properties&quot;: {&quot;times&quot;: [&quot;1800-01-01 13:00:00&quot;, &quot;1800-01-02 01:00:00&quot;], &quot;style&quot;: {&quot;color&quot;: &quot;red&quot;}}}]}, {\n",
       "                    pointToLayer: function (feature, latLng) {\n",
       "                        if (feature.properties.icon == &#x27;marker&#x27;) {\n",
       "                            if(feature.properties.iconstyle){\n",
       "                                return new L.Marker(latLng, {\n",
       "                                    icon: L.icon(feature.properties.iconstyle)});\n",
       "                            }\n",
       "                            //else\n",
       "                            return new L.Marker(latLng);\n",
       "                        }\n",
       "                        if (feature.properties.icon == &#x27;circle&#x27;) {\n",
       "                            if (feature.properties.iconstyle) {\n",
       "                                return new L.circleMarker(latLng, feature.properties.iconstyle)\n",
       "                                };\n",
       "                            //else\n",
       "                            return new L.circleMarker(latLng);\n",
       "                        }\n",
       "                        //else\n",
       "\n",
       "                        return new L.Marker(latLng);\n",
       "                    },\n",
       "                    style: function (feature) {\n",
       "                        return feature.properties.style;\n",
       "                    },\n",
       "                    onEachFeature: function(feature, layer) {\n",
       "                        if (feature.properties.popup) {\n",
       "                        layer.bindPopup(feature.properties.popup);\n",
       "                        }\n",
       "                        if (feature.properties.tooltip) {\n",
       "                        layer.bindTooltip(feature.properties.tooltip);\n",
       "                        }\n",
       "                    }\n",
       "                })\n",
       "\n",
       "            var timestamped_geo_json_4a976e066de2bdfd1ce6683ad5361957 = L.timeDimension.layer.geoJson(\n",
       "                geoJsonLayer,\n",
       "                {\n",
       "                    updateTimeDimension: true,\n",
       "                    addlastPoint: true,\n",
       "                    duration: undefined,\n",
       "                }\n",
       "            ).addTo(map_c097d4d2c5e6ed0d64417ff1f1071b56);\n",
       "        \n",
       "&lt;/script&gt;\n",
       "&lt;/html&gt;\" style=\"position:absolute;width:100%;height:100%;left:0;top:0;border:none !important;\" allowfullscreen webkitallowfullscreen mozallowfullscreen></iframe></div></div>"
      ],
      "text/plain": [
       "<folium.folium.Map at 0x7fd75a764e20>"
      ]
     },
     "execution_count": 25,
     "metadata": {},
     "output_type": "execute_result"
    }
   ],
   "source": [
    "lines_map = folium.Map(location=[0, 0], zoom_start=2)\n",
    "\n",
    "features = [\n",
    "    {\n",
    "        \"type\": \"Feature\",\n",
    "        \"geometry\": {\n",
    "            \"type\": \"LineString\",\n",
    "            \"coordinates\": line[\"coordinates\"]\n",
    "        },\n",
    "        \"properties\": {\n",
    "            \"times\": line[\"dates\"],\n",
    "            \"style\": {\n",
    "                \"color\": \"red\"\n",
    "            }\n",
    "        }\n",
    "    }\n",
    "    for line in lines\n",
    "]\n",
    "\n",
    "plugins.TimestampedGeoJson(\n",
    "    {\n",
    "        \"type\": \"FeatureCollection\",\n",
    "        \"features\": features,\n",
    "    },\n",
    "    period=\"PT1h\",\n",
    "    add_last_point=True,\n",
    ").add_to(lines_map)\n",
    "\n",
    "lines_map"
   ]
  }
 ],
 "metadata": {
  "kernelspec": {
   "display_name": "Python 3",
   "language": "python",
   "name": "python3"
  },
  "language_info": {
   "codemirror_mode": {
    "name": "ipython",
    "version": 3
   },
   "file_extension": ".py",
   "mimetype": "text/x-python",
   "name": "python",
   "nbconvert_exporter": "python",
   "pygments_lexer": "ipython3",
   "version": "3.10.12"
  },
  "orig_nbformat": 4
 },
 "nbformat": 4,
 "nbformat_minor": 2
}
